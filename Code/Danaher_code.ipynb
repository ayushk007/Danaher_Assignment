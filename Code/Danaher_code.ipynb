{
 "cells": [
  {
   "cell_type": "code",
   "execution_count": 1,
   "metadata": {},
   "outputs": [
    {
     "name": "stderr",
     "output_type": "stream",
     "text": [
      "/Users/apple/anaconda3/envs/Tensorflow/lib/python3.6/site-packages/sklearn/utils/linear_assignment_.py:22: FutureWarning: The linear_assignment_ module is deprecated in 0.21 and will be removed from 0.23. Use scipy.optimize.linear_sum_assignment instead.\n",
      "  FutureWarning)\n"
     ]
    }
   ],
   "source": [
    "import pandas as pd\n",
    "import seaborn as sns\n",
    "import matplotlib.pyplot as plt\n",
    "import numpy as np\n",
    "\n",
    "import requests\n",
    "import io\n",
    "import os\n",
    "\n",
    "from sklearn.cluster import KMeans\n",
    "from sklearn.mixture import GaussianMixture\n",
    "from sklearn.metrics import confusion_matrix\n",
    "\n",
    "from coclust.evaluation.external import accuracy"
   ]
  },
  {
   "cell_type": "code",
   "execution_count": null,
   "metadata": {
    "scrolled": true
   },
   "outputs": [],
   "source": [
    "# Accessing Raw Data\n",
    "base_url = \"https://raw.githubusercontent.com/danaher-digital/clustering_coding_challenge/main/data/raw/set_\" \n",
    "base_save_path = \"/Volumes/Untitled/practice/Danher/Data\"\n",
    "\n",
    "# Downloading and saving the data CSVs into local system\n",
    "for i in range(13):\n",
    "    \n",
    "    if i < 10:\n",
    "        index = '0' + str(i) + '.csv'\n",
    "    else:\n",
    "        index = str(i) + '.csv'\n",
    "        \n",
    "    url = base_url + index\n",
    "    download = requests.get(url).content\n",
    "    df = pd.read_csv(io.StringIO(download.decode('utf-8')))\n",
    "    \n",
    "    sp = url.split('/')[-1]\n",
    "    save_path = os.path.join(base_save_path, sp)\n",
    "    df.to_csv(save_path, index = False)"
   ]
  },
  {
   "cell_type": "code",
   "execution_count": 3,
   "metadata": {},
   "outputs": [
    {
     "name": "stderr",
     "output_type": "stream",
     "text": [
      "/Users/apple/anaconda3/envs/Tensorflow/lib/python3.6/site-packages/sklearn/utils/linear_assignment_.py:128: FutureWarning: The linear_assignment function is deprecated in 0.21 and will be removed from 0.23. Use scipy.optimize.linear_sum_assignment instead.\n",
      "  FutureWarning)\n"
     ]
    },
    {
     "name": "stdout",
     "output_type": "stream",
     "text": [
      "Data/set_00.csv\n",
      "kmeans_coclust : 22.75%\n",
      "gaussian_mixture_coclust : 42.46%\n",
      "\n",
      "\n"
     ]
    },
    {
     "name": "stderr",
     "output_type": "stream",
     "text": [
      "/Users/apple/anaconda3/envs/Tensorflow/lib/python3.6/site-packages/sklearn/utils/linear_assignment_.py:128: FutureWarning: The linear_assignment function is deprecated in 0.21 and will be removed from 0.23. Use scipy.optimize.linear_sum_assignment instead.\n",
      "  FutureWarning)\n"
     ]
    },
    {
     "name": "stdout",
     "output_type": "stream",
     "text": [
      "Data/set_01.csv\n",
      "kmeans_coclust : 54.38%\n",
      "gaussian_mixture_coclust : 45.15%\n",
      "\n",
      "\n"
     ]
    },
    {
     "name": "stderr",
     "output_type": "stream",
     "text": [
      "/Users/apple/anaconda3/envs/Tensorflow/lib/python3.6/site-packages/sklearn/utils/linear_assignment_.py:128: FutureWarning: The linear_assignment function is deprecated in 0.21 and will be removed from 0.23. Use scipy.optimize.linear_sum_assignment instead.\n",
      "  FutureWarning)\n"
     ]
    },
    {
     "name": "stdout",
     "output_type": "stream",
     "text": [
      "Data/set_02.csv\n",
      "kmeans_coclust : 27.05%\n",
      "gaussian_mixture_coclust : 37.96%\n",
      "\n",
      "\n"
     ]
    },
    {
     "name": "stderr",
     "output_type": "stream",
     "text": [
      "/Users/apple/anaconda3/envs/Tensorflow/lib/python3.6/site-packages/sklearn/utils/linear_assignment_.py:128: FutureWarning: The linear_assignment function is deprecated in 0.21 and will be removed from 0.23. Use scipy.optimize.linear_sum_assignment instead.\n",
      "  FutureWarning)\n"
     ]
    },
    {
     "name": "stdout",
     "output_type": "stream",
     "text": [
      "Data/set_03.csv\n",
      "kmeans_coclust : 12.09%\n",
      "gaussian_mixture_coclust : 40.51%\n",
      "\n",
      "\n"
     ]
    },
    {
     "name": "stderr",
     "output_type": "stream",
     "text": [
      "/Users/apple/anaconda3/envs/Tensorflow/lib/python3.6/site-packages/sklearn/utils/linear_assignment_.py:128: FutureWarning: The linear_assignment function is deprecated in 0.21 and will be removed from 0.23. Use scipy.optimize.linear_sum_assignment instead.\n",
      "  FutureWarning)\n"
     ]
    },
    {
     "name": "stdout",
     "output_type": "stream",
     "text": [
      "Data/set_04.csv\n",
      "kmeans_coclust : 12.99%\n",
      "gaussian_mixture_coclust : 45.42%\n",
      "\n",
      "\n"
     ]
    },
    {
     "name": "stderr",
     "output_type": "stream",
     "text": [
      "/Users/apple/anaconda3/envs/Tensorflow/lib/python3.6/site-packages/sklearn/utils/linear_assignment_.py:128: FutureWarning: The linear_assignment function is deprecated in 0.21 and will be removed from 0.23. Use scipy.optimize.linear_sum_assignment instead.\n",
      "  FutureWarning)\n"
     ]
    },
    {
     "name": "stdout",
     "output_type": "stream",
     "text": [
      "Data/set_05.csv\n",
      "kmeans_coclust : 12.74%\n",
      "gaussian_mixture_coclust : 43.33%\n",
      "\n",
      "\n"
     ]
    },
    {
     "name": "stderr",
     "output_type": "stream",
     "text": [
      "/Users/apple/anaconda3/envs/Tensorflow/lib/python3.6/site-packages/sklearn/utils/linear_assignment_.py:128: FutureWarning: The linear_assignment function is deprecated in 0.21 and will be removed from 0.23. Use scipy.optimize.linear_sum_assignment instead.\n",
      "  FutureWarning)\n"
     ]
    },
    {
     "name": "stdout",
     "output_type": "stream",
     "text": [
      "Data/set_06.csv\n",
      "kmeans_coclust : 12.13%\n",
      "gaussian_mixture_coclust : 47.50%\n",
      "\n",
      "\n"
     ]
    },
    {
     "name": "stderr",
     "output_type": "stream",
     "text": [
      "/Users/apple/anaconda3/envs/Tensorflow/lib/python3.6/site-packages/sklearn/utils/linear_assignment_.py:128: FutureWarning: The linear_assignment function is deprecated in 0.21 and will be removed from 0.23. Use scipy.optimize.linear_sum_assignment instead.\n",
      "  FutureWarning)\n"
     ]
    },
    {
     "name": "stdout",
     "output_type": "stream",
     "text": [
      "Data/set_07.csv\n",
      "kmeans_coclust : 12.45%\n",
      "gaussian_mixture_coclust : 43.72%\n",
      "\n",
      "\n"
     ]
    },
    {
     "name": "stderr",
     "output_type": "stream",
     "text": [
      "/Users/apple/anaconda3/envs/Tensorflow/lib/python3.6/site-packages/sklearn/utils/linear_assignment_.py:128: FutureWarning: The linear_assignment function is deprecated in 0.21 and will be removed from 0.23. Use scipy.optimize.linear_sum_assignment instead.\n",
      "  FutureWarning)\n"
     ]
    },
    {
     "name": "stdout",
     "output_type": "stream",
     "text": [
      "Data/set_08.csv\n",
      "kmeans_coclust : 12.52%\n",
      "gaussian_mixture_coclust : 43.39%\n",
      "\n",
      "\n"
     ]
    },
    {
     "name": "stderr",
     "output_type": "stream",
     "text": [
      "/Users/apple/anaconda3/envs/Tensorflow/lib/python3.6/site-packages/sklearn/utils/linear_assignment_.py:128: FutureWarning: The linear_assignment function is deprecated in 0.21 and will be removed from 0.23. Use scipy.optimize.linear_sum_assignment instead.\n",
      "  FutureWarning)\n"
     ]
    },
    {
     "name": "stdout",
     "output_type": "stream",
     "text": [
      "Data/set_09.csv\n",
      "kmeans_coclust : 11.69%\n",
      "gaussian_mixture_coclust : 43.57%\n",
      "\n",
      "\n"
     ]
    },
    {
     "name": "stderr",
     "output_type": "stream",
     "text": [
      "/Users/apple/anaconda3/envs/Tensorflow/lib/python3.6/site-packages/sklearn/utils/linear_assignment_.py:128: FutureWarning: The linear_assignment function is deprecated in 0.21 and will be removed from 0.23. Use scipy.optimize.linear_sum_assignment instead.\n",
      "  FutureWarning)\n"
     ]
    },
    {
     "name": "stdout",
     "output_type": "stream",
     "text": [
      "Data/set_10.csv\n",
      "kmeans_coclust : 12.05%\n",
      "gaussian_mixture_coclust : 41.69%\n",
      "\n",
      "\n"
     ]
    },
    {
     "name": "stderr",
     "output_type": "stream",
     "text": [
      "/Users/apple/anaconda3/envs/Tensorflow/lib/python3.6/site-packages/sklearn/utils/linear_assignment_.py:128: FutureWarning: The linear_assignment function is deprecated in 0.21 and will be removed from 0.23. Use scipy.optimize.linear_sum_assignment instead.\n",
      "  FutureWarning)\n"
     ]
    },
    {
     "name": "stdout",
     "output_type": "stream",
     "text": [
      "Data/set_11.csv\n",
      "kmeans_coclust : 11.84%\n",
      "gaussian_mixture_coclust : 44.43%\n",
      "\n",
      "\n"
     ]
    },
    {
     "name": "stderr",
     "output_type": "stream",
     "text": [
      "/Users/apple/anaconda3/envs/Tensorflow/lib/python3.6/site-packages/sklearn/mixture/_base.py:267: ConvergenceWarning: Initialization 1 did not converge. Try different init parameters, or increase max_iter, tol or check for degenerate data.\n",
      "  % (init + 1), ConvergenceWarning)\n"
     ]
    },
    {
     "name": "stdout",
     "output_type": "stream",
     "text": [
      "Data/set_12.csv\n",
      "kmeans_coclust : 12.56%\n",
      "gaussian_mixture_coclust : 45.07%\n",
      "\n",
      "\n"
     ]
    },
    {
     "name": "stderr",
     "output_type": "stream",
     "text": [
      "/Users/apple/anaconda3/envs/Tensorflow/lib/python3.6/site-packages/sklearn/utils/linear_assignment_.py:128: FutureWarning: The linear_assignment function is deprecated in 0.21 and will be removed from 0.23. Use scipy.optimize.linear_sum_assignment instead.\n",
      "  FutureWarning)\n"
     ]
    }
   ],
   "source": [
    "files = os.listdir('Data/')\n",
    "\n",
    "kmeans_accuracy = []\n",
    "gaussian_mixture_accuracy = []\n",
    "\n",
    "for file in files:\n",
    "    path = os.path.join('Data/', file)\n",
    "    df = pd.read_csv(path)\n",
    "    \n",
    "    num_clusters = df.label.unique().shape[0]\n",
    "    X = df.iloc[:, :-1].values\n",
    "    \n",
    "    model_kmeans = KMeans(n_clusters=num_clusters)\n",
    "    model_kmeans.fit(X)\n",
    "    yhat_kmeans = model_kmeans.predict(X)\n",
    "    \n",
    "    model_gauss = GaussianMixture(n_components=num_clusters)\n",
    "    model_gauss.fit(X)\n",
    "    yhat_gauss = model_gauss.predict(X)\n",
    "    \n",
    "    acc_km = 100*accuracy(df.label, yhat_kmeans)\n",
    "    acc_gauss = 100*accuracy(df.label, yhat_gauss)\n",
    "    \n",
    "    kmeans_accuracy.append(acc_km)\n",
    "    gaussian_mixture_accuracy.append(acc_gauss)\n",
    "    \n",
    "    print(path)\n",
    "    # Set 00\n",
    "    print('kmeans_coclust : {:.2f}%'.format(acc_km))\n",
    "    print('gaussian_mixture_coclust : {:.2f}%'.format(acc_gauss))\n",
    "    \n",
    "    print('\\n')"
   ]
  },
  {
   "cell_type": "code",
   "execution_count": 7,
   "metadata": {},
   "outputs": [],
   "source": [
    "df_acc = pd.DataFrame({'File':files, 'KMeans_accuracy':kmeans_accuracy, 'Gaussian_Mixture_accuracy':gaussian_mixture_accuracy})"
   ]
  },
  {
   "cell_type": "code",
   "execution_count": 22,
   "metadata": {},
   "outputs": [
    {
     "data": {
      "image/png": "[encoded data removed]",
      "text/plain": [
       "<Figure size 864x432 with 1 Axes>"
      ]
     },
     "metadata": {
      "needs_background": "light"
     },
     "output_type": "display_data"
    }
   ],
   "source": [
    "plt.figure(figsize=(12, 6))\n",
    "sns.scatterplot(df_acc.File, df_acc.KMeans_accuracy, label = 'KMeans')\n",
    "sns.scatterplot(df_acc.File, df_acc.Gaussian_Mixture_accuracy, label = 'Gaussian_Mixture')\n",
    "\n",
    "plt.xticks(rotation = 90, fontsize = 12)\n",
    "plt.ylabel('Accuracy', fontsize = 16)\n",
    "plt.legend(fontsize = 14)\n",
    "\n",
    "plt.show()"
   ]
  },
  {
   "cell_type": "markdown",
   "metadata": {},
   "source": [
    "## Gaussian Mixture model seems to be fitting better than KMeans in all the files\n",
    "\n",
    "## Similarly same GMM Algorithm can be used to fit all the other files\n"
   ]
  },
  {
   "cell_type": "code",
   "execution_count": 21,
   "metadata": {},
   "outputs": [],
   "source": [
    "# saving sample GMM model for set 12\n",
    "gmm_name = 'Model/Danaher_GMM_Model'\n",
    "np.save(gmm_name + '_weights', model_gauss.weights_, allow_pickle=False)\n",
    "np.save(gmm_name + '_means', model_gauss.means_, allow_pickle=False)\n",
    "np.save(gmm_name + '_covariances', model_gauss.covariances_, allow_pickle=False)"
   ]
  },
  {
   "cell_type": "code",
   "execution_count": null,
   "metadata": {},
   "outputs": [],
   "source": []
  },
  {
   "cell_type": "code",
   "execution_count": null,
   "metadata": {},
   "outputs": [],
   "source": []
  },
  {
   "cell_type": "code",
   "execution_count": null,
   "metadata": {},
   "outputs": [],
   "source": []
  }
 ],
 "metadata": {
  "kernelspec": {
   "display_name": "Python 3",
   "language": "python",
   "name": "python3"
  },
  "language_info": {
   "codemirror_mode": {
    "name": "ipython",
    "version": 3
   },
   "file_extension": ".py",
   "mimetype": "text/x-python",
   "name": "python",
   "nbconvert_exporter": "python",
   "pygments_lexer": "ipython3",
   "version": "3.6.8"
  }
 },
 "nbformat": 4,
 "nbformat_minor": 2
}
